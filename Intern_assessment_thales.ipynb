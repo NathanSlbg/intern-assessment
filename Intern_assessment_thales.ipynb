{
 "cells": [
  {
   "cell_type": "code",
   "execution_count": 2,
   "id": "5fda2b79",
   "metadata": {},
   "outputs": [
    {
     "name": "stdout",
     "output_type": "stream",
     "text": [
      "Requirement already satisfied: pandasgui in c:\\users\\natha\\anaconda\\lib\\site-packages (0.2.14)\n",
      "Requirement already satisfied: appdirs in c:\\users\\natha\\anaconda\\lib\\site-packages (from pandasgui) (1.4.4)\n",
      "Requirement already satisfied: typing-extensions in c:\\users\\natha\\anaconda\\lib\\site-packages (from pandasgui) (4.3.0)\n",
      "Requirement already satisfied: PyQtWebEngine in c:\\users\\natha\\anaconda\\lib\\site-packages (from pandasgui) (5.15.6)\n",
      "Requirement already satisfied: pynput in c:\\users\\natha\\anaconda\\lib\\site-packages (from pandasgui) (1.7.6)\n",
      "Requirement already satisfied: PyQt5 in c:\\users\\natha\\anaconda\\lib\\site-packages (from pandasgui) (5.15.10)\n",
      "Requirement already satisfied: IPython in c:\\users\\natha\\anaconda\\lib\\site-packages (from pandasgui) (7.31.1)\n",
      "Requirement already satisfied: pyarrow in c:\\users\\natha\\anaconda\\lib\\site-packages (from pandasgui) (15.0.0)\n",
      "Requirement already satisfied: qtstylish>=0.1.2 in c:\\users\\natha\\anaconda\\lib\\site-packages (from pandasgui) (0.1.5)\n",
      "Requirement already satisfied: pywin32 in c:\\users\\natha\\anaconda\\lib\\site-packages (from pandasgui) (302)\n",
      "Requirement already satisfied: setuptools in c:\\users\\natha\\anaconda\\lib\\site-packages (from pandasgui) (63.4.1)\n",
      "Requirement already satisfied: numpy in c:\\users\\natha\\anaconda\\lib\\site-packages (from pandasgui) (1.21.5)\n",
      "Requirement already satisfied: pandas in c:\\users\\natha\\anaconda\\lib\\site-packages (from pandasgui) (1.4.4)\n",
      "Requirement already satisfied: wordcloud in c:\\users\\natha\\anaconda\\lib\\site-packages (from pandasgui) (1.9.3)\n",
      "Requirement already satisfied: plotly in c:\\users\\natha\\anaconda\\lib\\site-packages (from pandasgui) (5.9.0)\n",
      "Requirement already satisfied: astor in c:\\users\\natha\\anaconda\\lib\\site-packages (from pandasgui) (0.8.1)\n",
      "Requirement already satisfied: PyQt5-sip in c:\\users\\natha\\anaconda\\lib\\site-packages (from pandasgui) (12.13.0)\n",
      "Requirement already satisfied: colorama in c:\\users\\natha\\anaconda\\lib\\site-packages (from IPython->pandasgui) (0.4.5)\n",
      "Requirement already satisfied: traitlets>=4.2 in c:\\users\\natha\\anaconda\\lib\\site-packages (from IPython->pandasgui) (5.1.1)\n",
      "Requirement already satisfied: prompt-toolkit!=3.0.0,!=3.0.1,<3.1.0,>=2.0.0 in c:\\users\\natha\\anaconda\\lib\\site-packages (from IPython->pandasgui) (3.0.20)\n",
      "Requirement already satisfied: pygments in c:\\users\\natha\\anaconda\\lib\\site-packages (from IPython->pandasgui) (2.11.2)\n",
      "Requirement already satisfied: matplotlib-inline in c:\\users\\natha\\anaconda\\lib\\site-packages (from IPython->pandasgui) (0.1.6)\n",
      "Requirement already satisfied: pickleshare in c:\\users\\natha\\anaconda\\lib\\site-packages (from IPython->pandasgui) (0.7.5)\n",
      "Requirement already satisfied: backcall in c:\\users\\natha\\anaconda\\lib\\site-packages (from IPython->pandasgui) (0.2.0)\n",
      "Requirement already satisfied: jedi>=0.16 in c:\\users\\natha\\anaconda\\lib\\site-packages (from IPython->pandasgui) (0.18.1)\n",
      "Requirement already satisfied: decorator in c:\\users\\natha\\anaconda\\lib\\site-packages (from IPython->pandasgui) (5.1.1)\n",
      "Requirement already satisfied: pytz>=2020.1 in c:\\users\\natha\\anaconda\\lib\\site-packages (from pandas->pandasgui) (2022.1)\n",
      "Requirement already satisfied: python-dateutil>=2.8.1 in c:\\users\\natha\\anaconda\\lib\\site-packages (from pandas->pandasgui) (2.8.2)\n",
      "Requirement already satisfied: tenacity>=6.2.0 in c:\\users\\natha\\anaconda\\lib\\site-packages (from plotly->pandasgui) (8.0.1)\n",
      "Requirement already satisfied: six in c:\\users\\natha\\anaconda\\lib\\site-packages (from pynput->pandasgui) (1.16.0)\n",
      "Requirement already satisfied: PyQt5-Qt5>=5.15.2 in c:\\users\\natha\\anaconda\\lib\\site-packages (from PyQt5->pandasgui) (5.15.2)\n",
      "Requirement already satisfied: PyQtWebEngine-Qt5>=5.15.0 in c:\\users\\natha\\anaconda\\lib\\site-packages (from PyQtWebEngine->pandasgui) (5.15.2)\n",
      "Requirement already satisfied: matplotlib in c:\\users\\natha\\anaconda\\lib\\site-packages (from wordcloud->pandasgui) (3.5.2)\n",
      "Requirement already satisfied: pillow in c:\\users\\natha\\anaconda\\lib\\site-packages (from wordcloud->pandasgui) (9.2.0)\n",
      "Requirement already satisfied: parso<0.9.0,>=0.8.0 in c:\\users\\natha\\anaconda\\lib\\site-packages (from jedi>=0.16->IPython->pandasgui) (0.8.3)\n",
      "Requirement already satisfied: wcwidth in c:\\users\\natha\\anaconda\\lib\\site-packages (from prompt-toolkit!=3.0.0,!=3.0.1,<3.1.0,>=2.0.0->IPython->pandasgui) (0.2.5)\n",
      "Requirement already satisfied: kiwisolver>=1.0.1 in c:\\users\\natha\\anaconda\\lib\\site-packages (from matplotlib->wordcloud->pandasgui) (1.4.2)\n",
      "Requirement already satisfied: pyparsing>=2.2.1 in c:\\users\\natha\\anaconda\\lib\\site-packages (from matplotlib->wordcloud->pandasgui) (3.0.9)\n",
      "Requirement already satisfied: packaging>=20.0 in c:\\users\\natha\\anaconda\\lib\\site-packages (from matplotlib->wordcloud->pandasgui) (21.3)\n",
      "Requirement already satisfied: cycler>=0.10 in c:\\users\\natha\\anaconda\\lib\\site-packages (from matplotlib->wordcloud->pandasgui) (0.11.0)\n",
      "Requirement already satisfied: fonttools>=4.22.0 in c:\\users\\natha\\anaconda\\lib\\site-packages (from matplotlib->wordcloud->pandasgui) (4.25.0)\n",
      "Note: you may need to restart the kernel to use updated packages.\n"
     ]
    }
   ],
   "source": [
    "pip install pandasgui"
   ]
  },
  {
   "cell_type": "code",
   "execution_count": null,
   "id": "2ea917f1",
   "metadata": {},
   "outputs": [],
   "source": []
  }
 ],
 "metadata": {
  "kernelspec": {
   "display_name": "Python 3 (ipykernel)",
   "language": "python",
   "name": "python3"
  },
  "language_info": {
   "codemirror_mode": {
    "name": "ipython",
    "version": 3
   },
   "file_extension": ".py",
   "mimetype": "text/x-python",
   "name": "python",
   "nbconvert_exporter": "python",
   "pygments_lexer": "ipython3",
   "version": "3.9.13"
  }
 },
 "nbformat": 4,
 "nbformat_minor": 5
}
